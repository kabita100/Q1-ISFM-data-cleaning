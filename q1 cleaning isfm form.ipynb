{
 "cells": [
  {
   "cell_type": "code",
   "execution_count": 12,
   "id": "03441660",
   "metadata": {},
   "outputs": [],
   "source": [
    "import pandas as pd\n",
    "from titlecase import titlecase\n",
    "\n",
    "# Read the Excel file\n",
    "file_path = '8th jan ISFM Beneficiary form_2023-24.xlsx'\n",
    "df = pd.read_excel(file_path)\n",
    "\n",
    "df.loc[\n",
    "    (df['D29e. Contact Number of ${D29a}'] == 9999999999) | \n",
    "    (df['D29e. Contact Number of ${D29a}'] == 9800000000) |\n",
    "    (df['D29e. Contact Number of ${D29a}'] == 9700000000) |\n",
    "    (df['D29e. Contact Number of ${D29a}'] == 9000000000) |\n",
    "    (df['D29e. Contact Number of ${D29a}'] == 9555555555) |\n",
    "    (df['D29e. Contact Number of ${D29a}'] == 9899999999),\n",
    "    'D29e. Contact Number of ${D29a}'\n",
    "] = 'N/A'\n",
    "\n",
    "df.loc[\n",
    "    (df['B12a.Contact number of HH head'] == 9999999999) |\n",
    "    (df['B12a.Contact number of HH head'] == 9800000000) |\n",
    "    (df['B12a.Contact number of HH head'] == 9700000000) |\n",
    "    (df['B12a.Contact number of HH head'] == 9000000000) |\n",
    "    (df['B12a.Contact number of HH head'] == 9555555555) |\n",
    "    (df['B12a.Contact number of HH head'] == 9899999999),\n",
    "    'B12a.Contact number of HH head'\n",
    "] = 'N/A'\n",
    "\n",
    "\n",
    "# Convert specified fields to proper case\n",
    "fields_to_proper_case = ['D29a. Participant’s Name']\n",
    "for field in fields_to_proper_case:\n",
    "    df[field] = df[field].apply(lambda x: titlecase(str(x)))\n",
    "\n",
    "# Calculate age groups and add new columns\n",
    "df.insert(df.columns.get_loc('D29b. Age of ${D29a}') + 1, 'Participant age group', df['D29b. Age of ${D29a}'].apply(lambda x: '30+' if x >= 30 else '15-29' if pd.notna(x) else 'N/A'))\n",
    "df.insert(df.columns.get_loc('B15. Age of household head(Year)') + 1, 'HH head age group', df['B15. Age of household head(Year)'].apply(lambda x: '30+' if x >= 30 else '15-29' if pd.notna(x) else 'N/A'))\n"
   ]
  },
  {
   "cell_type": "code",
   "execution_count": 41,
   "id": "5bf3ceec",
   "metadata": {},
   "outputs": [
    {
     "name": "stdout",
     "output_type": "stream",
     "text": [
      "Q. What kind of Registration is it?  Loan Beneficiaries  New registration  Old registration  Training/Meetings/Visits\n",
      "A2. District                                                                                                         \n",
      "Banke                                                 0                82               130                       441\n",
      "Bardiya                                               0                73                52                       163\n",
      "Dang                                                  0               187                61                       245\n",
      "Kailali                                               5                87               121                       370\n",
      "Kanchanpur                                            0                20                60                       122\n",
      "Kapilbastu                                            0                35                 6                       239\n",
      "Kavrepalanchok                                        1                 5                 0                         0\n",
      "Surkhet                                               0               530                 0                       177\n"
     ]
    }
   ],
   "source": [
    "# Count data based on \"A2. District\" and \"Q. What kind of Registration is it?\" columns\n",
    "registration_counts = df.groupby(['A2. District', 'Q. What kind of Registration is it?']).size().reset_index(name='Count')\n",
    "\n",
    "# Pivot the table to display \"Q. What kind of Registration is it?\" values as columns\n",
    "registration_counts_pivot = registration_counts.pivot_table(index='A2. District', columns='Q. What kind of Registration is it?', values='Count', fill_value=0)\n",
    "\n",
    "# Display the pivoted table in a clean format\n",
    "print(registration_counts_pivot.to_string())"
   ]
  },
  {
   "cell_type": "code",
   "execution_count": 16,
   "id": "da082613",
   "metadata": {},
   "outputs": [],
   "source": [
    "# Filter data where \"Has the informant agree to provide information on CIMMYT-NSAF supported beneficiary activity data collection?\" is equal to \"Yes\"\n",
    "# and \"Q. What kind of Registration is it?\" is not equal to \"Loan Beneficiaries\"\n",
    "cleaned_df = df[(df['Has the informant agree to provide information on CIMMYT-NSAF supported beneficiary activity data collection?'] == 'Yes') & \n",
    "                (df['Q. What kind of Registration is it?'] != 'Loan Beneficiaries')]\n",
    "\n",
    "# Filter data where \"Has the informant agree to provide information on CIMMYT-NSAF supported beneficiary activity data collection?\" is equal to \"No\"\n",
    "consent_not_given_data = df[df['Has the informant agree to provide information on CIMMYT-NSAF supported beneficiary activity data collection?'] == 'No']\n",
    "\n",
    "# Filter data where \"Q. What kind of Registration is it?\" is equal to \"Loan Beneficiaries\"\n",
    "loan_beneficiaries_data = df[df['Q. What kind of Registration is it?'] == 'Loan Beneficiaries']\n",
    "\n",
    "\n",
    "# Find and save duplicate values based on specified columns, excluding rows with 'N/A' in 'D29e. Contact Number of ${D29a}'\n",
    "duplicate_data = cleaned_df[cleaned_df.duplicated(subset=['D29a. Participant’s Name', 'Participant age group', 'D29e. Contact Number of ${D29a}'], keep=False) \n",
    "                            & (cleaned_df['D29e. Contact Number of ${D29a}'] != 'N/A')]\n",
    "new_cleaned_df = df[(df['Has the informant agree to provide information on CIMMYT-NSAF supported beneficiary activity data collection?'] == 'Yes') & \n",
    "                (df['Q. What kind of Registration is it?'] != 'Loan Beneficiaries') & \n",
    "                ~df.duplicated(subset=['D29a. Participant’s Name', 'Participant age group', 'D29e. Contact Number of ${D29a}'], keep=False) \n",
    "                | (df['D29e. Contact Number of ${D29a}'] == 'N/A')]\n",
    "\n",
    "# Save all filtered DataFrames to different sheets within the same Excel file\n",
    "with pd.ExcelWriter('1cleanedisfmfile.xlsx', engine='xlsxwriter') as writer:\n",
    "    new_cleaned_df.to_excel(writer, sheet_name='CleanedData', index=False)\n",
    "    consent_not_given_data.to_excel(writer, sheet_name='Consent_Not_Given', index=False)\n",
    "\n",
    "    loan_beneficiaries_data.to_excel(writer, sheet_name='Loan_Beneficiaries_q1', index=False)\n",
    "    duplicate_data.to_excel(writer, sheet_name='Duplicate_Data', index=False)"
   ]
  }
 ],
 "metadata": {
  "kernelspec": {
   "display_name": "Python 3 (ipykernel)",
   "language": "python",
   "name": "python3"
  },
  "language_info": {
   "codemirror_mode": {
    "name": "ipython",
    "version": 3
   },
   "file_extension": ".py",
   "mimetype": "text/x-python",
   "name": "python",
   "nbconvert_exporter": "python",
   "pygments_lexer": "ipython3",
   "version": "3.11.4"
  }
 },
 "nbformat": 4,
 "nbformat_minor": 5
}
